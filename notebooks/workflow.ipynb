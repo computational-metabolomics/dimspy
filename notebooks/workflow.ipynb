{
 "cells": [
  {
   "cell_type": "code",
   "execution_count": null,
   "metadata": {},
   "outputs": [],
   "source": [
    "#!/usr/bin/env python\n",
    "# -*- coding: utf-8 -*-\n",
    "\n",
    "import os\n",
    "import zipfile\n",
    "from dimspy.tools import process_scans\n",
    "from dimspy.tools import replicate_filter\n",
    "from dimspy.tools import create_sample_list\n",
    "from dimspy.tools import align_samples\n",
    "from dimspy.tools import blank_filter\n",
    "from dimspy.tools import sample_filter\n",
    "\n",
    "\n",
    "source = os.path.join(\"..\", \"tests\", \"data\", \"MTBLS79_subset\", \"MTBLS79_mzml_triplicates.zip\")\n",
    "fn_filelist = os.path.join(\"..\", \"tests\", \"data\", \"MTBLS79_subset\", \"filelist_mzml_triplicates.txt\")\n",
    "\n",
    "zip_ref = zipfile.ZipFile(source, 'r')\n",
    "zip_ref.extractall(\"data\")\n",
    "zip_ref.close()\n",
    "\n",
    "print(os.listdir(\"data\"))\n"
   ]
  },
  {
   "cell_type": "code",
   "execution_count": null,
   "metadata": {
    "pycharm": {
     "name": "#%%\n"
    }
   },
   "outputs": [],
   "source": [
    "pls = process_scans(\"data\", min_scans=1, function_noise=\"median\",\n",
    "                    snr_thres=3.0, ppm=2.0, min_fraction=None, rsd_thres=None,\n",
    "                    filelist=fn_filelist, remove_mz_range=[], block_size=5000, ncpus=None)\n",
    "\n",
    "print(pls[0]) # first peaklist"
   ]
  },
  {
   "cell_type": "code",
   "execution_count": null,
   "metadata": {
    "pycharm": {
     "name": "#%%\n"
    }
   },
   "outputs": [],
   "source": [
    "pls_rf = replicate_filter(pls, ppm=2.0, replicates=3, min_peaks=2, rsd_thres=None,\n",
    "                          report=\"log_replicate_filter.txt\", block_size=5000)\n",
    "\n",
    "print(pls_rf[0]) # first peaklist"
   ]
  },
  {
   "cell_type": "code",
   "execution_count": null,
   "metadata": {
    "pycharm": {
     "name": "#%%\n"
    }
   },
   "outputs": [],
   "source": [
    "create_sample_list(pls_rf, \"sample_list.txt\", delimiter=\"\\t\")"
   ]
  },
  {
   "cell_type": "code",
   "execution_count": null,
   "metadata": {
    "pycharm": {
     "name": "#%%\n"
    }
   },
   "outputs": [],
   "source": [
    "pm = align_samples(pls, ppm=3.0, ncpus=1, block_size=5000)\n",
    "print(pm.shape)"
   ]
  },
  {
   "cell_type": "code",
   "execution_count": null,
   "metadata": {
    "pycharm": {
     "name": "#%%\n"
    }
   },
   "outputs": [],
   "source": [
    "pm_bf = blank_filter(pm, \"blank\", min_fraction=1.0, min_fold_change=10.0, function=\"mean\", rm_samples=True)\n",
    "print(pm_bf.shape)"
   ]
  },
  {
   "cell_type": "code",
   "execution_count": null,
   "metadata": {
    "pycharm": {
     "name": "#%%\n"
    }
   },
   "outputs": [],
   "source": [
    "pm_bf_sf = sample_filter(pm, 0.8, within=False)\n",
    "print(pm_bf_sf.shape)\n",
    "\n"
   ]
  },
  {
   "cell_type": "code",
   "execution_count": null,
   "metadata": {},
   "outputs": [],
   "source": [
    "# "
   ]
  }
 ],
 "metadata": {
  "kernelspec": {
   "display_name": "Python 3",
   "language": "python",
   "name": "python3"
  },
  "language_info": {
   "codemirror_mode": {
    "name": "ipython",
    "version": 3
   },
   "file_extension": ".py",
   "mimetype": "text/x-python",
   "name": "python",
   "nbconvert_exporter": "python",
   "pygments_lexer": "ipython3",
   "version": "3.7.3"
  },
  "pycharm": {
   "stem_cell": {
    "cell_type": "raw",
    "metadata": {
     "collapsed": false
    },
    "source": []
   }
  }
 },
 "nbformat": 4,
 "nbformat_minor": 1
}
